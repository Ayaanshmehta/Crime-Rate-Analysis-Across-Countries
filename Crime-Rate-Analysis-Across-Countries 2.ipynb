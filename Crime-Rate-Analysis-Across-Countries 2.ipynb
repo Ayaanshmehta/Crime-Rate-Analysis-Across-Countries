{
 "cells": [
  {
   "cell_type": "code",
   "execution_count": null,
   "id": "d36d7e0d-ec4d-4011-93d4-a83ee9f00ab2",
   "metadata": {},
   "outputs": [],
   "source": [
    "import pandas as pd\n",
    "import numpy as np\n",
    "import matplotlib.pyplot as plt\n",
    "import seaborn as sns"
   ]
  },
  {
   "cell_type": "code",
   "execution_count": 3,
   "id": "83a856fb-8950-44f3-b652-d47217c1a8e7",
   "metadata": {},
   "outputs": [
    {
     "name": "stderr",
     "output_type": "stream",
     "text": [
      "C:\\Users\\ayaan\\AppData\\Local\\Temp\\ipykernel_6284\\4176615863.py:1: DtypeWarning: Columns (0) have mixed types. Specify dtype option on import or set low_memory=False.\n",
      "  df = pd.read_csv(r\"C:\\Users\\ayaan\\OneDrive\\Desktop\\Crime Rate Analysis Across Countries\\hci_crime_752_pl_co_re_ca_2000-2013_21oct15-ada.csv\")\n"
     ]
    }
   ],
   "source": [
    "df = pd.read_csv(r\"C:\\Users\\ayaan\\OneDrive\\Desktop\\Crime Rate Analysis Across Countries\\hci_crime_752_pl_co_re_ca_2000-2013_21oct15-ada.csv\")"
   ]
  },
  {
   "cell_type": "code",
   "execution_count": 4,
   "id": "96091c9f-a3d5-4431-b31e-bffc3d2f04ec",
   "metadata": {},
   "outputs": [],
   "source": [
    "df.dropna(axis=1, how='all', inplace=True)\n",
    "df.dropna(axis=0, how='all', inplace=True)"
   ]
  },
  {
   "cell_type": "code",
   "execution_count": 5,
   "id": "f8b2092f-0c61-4a2a-9dff-8a261159e441",
   "metadata": {},
   "outputs": [],
   "source": [
    "df.drop_duplicates(inplace=True)"
   ]
  },
  {
   "cell_type": "code",
   "execution_count": 6,
   "id": "4f695b60-26db-492f-a463-bf4091773524",
   "metadata": {},
   "outputs": [],
   "source": [
    "df.columns = df.columns.str.strip().str.lower()"
   ]
  },
  {
   "cell_type": "code",
   "execution_count": 7,
   "id": "292e0efc-17ed-4de4-a2f8-9afe46d5fba8",
   "metadata": {},
   "outputs": [],
   "source": [
    "columns_to_drop = ['source', 'notes', 'unit_of_measure', 'indicator_id']\n",
    "df = df.drop(columns=[col for col in columns_to_drop if col in df.columns], errors='ignore')"
   ]
  },
  {
   "cell_type": "code",
   "execution_count": 8,
   "id": "63fd7b3c-ab2c-441d-9d8f-0716c41e93da",
   "metadata": {},
   "outputs": [],
   "source": [
    "df = df[df['dof_population'] > 0]"
   ]
  },
  {
   "cell_type": "code",
   "execution_count": 9,
   "id": "813a23a1-e7f7-44ed-8b54-31aba2fbe7e4",
   "metadata": {},
   "outputs": [],
   "source": [
    "df.reset_index(drop=True, inplace=True)"
   ]
  },
  {
   "cell_type": "code",
   "execution_count": 10,
   "id": "30760e3f-6c6c-4109-881d-eb6644fbf3d7",
   "metadata": {},
   "outputs": [
    {
     "data": {
      "text/html": [
       "<div>\n",
       "<style scoped>\n",
       "    .dataframe tbody tr th:only-of-type {\n",
       "        vertical-align: middle;\n",
       "    }\n",
       "\n",
       "    .dataframe tbody tr th {\n",
       "        vertical-align: top;\n",
       "    }\n",
       "\n",
       "    .dataframe thead th {\n",
       "        text-align: right;\n",
       "    }\n",
       "</style>\n",
       "<table border=\"1\" class=\"dataframe\">\n",
       "  <thead>\n",
       "    <tr style=\"text-align: right;\">\n",
       "      <th></th>\n",
       "      <th>ind_id</th>\n",
       "      <th>ind_definition</th>\n",
       "      <th>reportyear</th>\n",
       "      <th>race_eth_code</th>\n",
       "      <th>race_eth_name</th>\n",
       "      <th>geotype</th>\n",
       "      <th>geotypevalue</th>\n",
       "      <th>geoname</th>\n",
       "      <th>county_fips</th>\n",
       "      <th>county_name</th>\n",
       "      <th>...</th>\n",
       "      <th>denominator</th>\n",
       "      <th>rate</th>\n",
       "      <th>ll_95ci</th>\n",
       "      <th>ul_95ci</th>\n",
       "      <th>se</th>\n",
       "      <th>rse</th>\n",
       "      <th>ca_decile</th>\n",
       "      <th>ca_rr</th>\n",
       "      <th>dof_population</th>\n",
       "      <th>version</th>\n",
       "    </tr>\n",
       "  </thead>\n",
       "  <tbody>\n",
       "    <tr>\n",
       "      <th>0</th>\n",
       "      <td>752</td>\n",
       "      <td>Number of Violent Crimes per 1,000 Population</td>\n",
       "      <td>2000.0</td>\n",
       "      <td>9.0</td>\n",
       "      <td>Total</td>\n",
       "      <td>CA</td>\n",
       "      <td>6.0</td>\n",
       "      <td>California</td>\n",
       "      <td>NaN</td>\n",
       "      <td>NaN</td>\n",
       "      <td>...</td>\n",
       "      <td>33847694.0</td>\n",
       "      <td>NaN</td>\n",
       "      <td>NaN</td>\n",
       "      <td>NaN</td>\n",
       "      <td>NaN</td>\n",
       "      <td>NaN</td>\n",
       "      <td>NaN</td>\n",
       "      <td>NaN</td>\n",
       "      <td>33873086.0</td>\n",
       "      <td>10/21/2015</td>\n",
       "    </tr>\n",
       "    <tr>\n",
       "      <th>1</th>\n",
       "      <td>752</td>\n",
       "      <td>Number of Violent Crimes per 1,000 Population</td>\n",
       "      <td>2000.0</td>\n",
       "      <td>9.0</td>\n",
       "      <td>Total</td>\n",
       "      <td>CA</td>\n",
       "      <td>6.0</td>\n",
       "      <td>California</td>\n",
       "      <td>NaN</td>\n",
       "      <td>NaN</td>\n",
       "      <td>...</td>\n",
       "      <td>33847694.0</td>\n",
       "      <td>NaN</td>\n",
       "      <td>NaN</td>\n",
       "      <td>NaN</td>\n",
       "      <td>NaN</td>\n",
       "      <td>NaN</td>\n",
       "      <td>NaN</td>\n",
       "      <td>NaN</td>\n",
       "      <td>33873086.0</td>\n",
       "      <td>10/21/2015</td>\n",
       "    </tr>\n",
       "    <tr>\n",
       "      <th>2</th>\n",
       "      <td>752</td>\n",
       "      <td>Number of Violent Crimes per 1,000 Population</td>\n",
       "      <td>2000.0</td>\n",
       "      <td>9.0</td>\n",
       "      <td>Total</td>\n",
       "      <td>CA</td>\n",
       "      <td>6.0</td>\n",
       "      <td>California</td>\n",
       "      <td>NaN</td>\n",
       "      <td>NaN</td>\n",
       "      <td>...</td>\n",
       "      <td>33847694.0</td>\n",
       "      <td>NaN</td>\n",
       "      <td>NaN</td>\n",
       "      <td>NaN</td>\n",
       "      <td>NaN</td>\n",
       "      <td>NaN</td>\n",
       "      <td>NaN</td>\n",
       "      <td>NaN</td>\n",
       "      <td>33873086.0</td>\n",
       "      <td>10/21/2015</td>\n",
       "    </tr>\n",
       "    <tr>\n",
       "      <th>3</th>\n",
       "      <td>752</td>\n",
       "      <td>Number of Violent Crimes per 1,000 Population</td>\n",
       "      <td>2000.0</td>\n",
       "      <td>9.0</td>\n",
       "      <td>Total</td>\n",
       "      <td>CA</td>\n",
       "      <td>6.0</td>\n",
       "      <td>California</td>\n",
       "      <td>NaN</td>\n",
       "      <td>NaN</td>\n",
       "      <td>...</td>\n",
       "      <td>33847694.0</td>\n",
       "      <td>NaN</td>\n",
       "      <td>NaN</td>\n",
       "      <td>NaN</td>\n",
       "      <td>NaN</td>\n",
       "      <td>NaN</td>\n",
       "      <td>NaN</td>\n",
       "      <td>NaN</td>\n",
       "      <td>33873086.0</td>\n",
       "      <td>10/21/2015</td>\n",
       "    </tr>\n",
       "    <tr>\n",
       "      <th>4</th>\n",
       "      <td>752</td>\n",
       "      <td>Number of Violent Crimes per 1,000 Population</td>\n",
       "      <td>2000.0</td>\n",
       "      <td>9.0</td>\n",
       "      <td>Total</td>\n",
       "      <td>CA</td>\n",
       "      <td>6.0</td>\n",
       "      <td>California</td>\n",
       "      <td>NaN</td>\n",
       "      <td>NaN</td>\n",
       "      <td>...</td>\n",
       "      <td>33847694.0</td>\n",
       "      <td>6.217499</td>\n",
       "      <td>6.190935</td>\n",
       "      <td>6.244063</td>\n",
       "      <td>0.013553</td>\n",
       "      <td>0.217985</td>\n",
       "      <td>NaN</td>\n",
       "      <td>1.0</td>\n",
       "      <td>33873086.0</td>\n",
       "      <td>10/21/2015</td>\n",
       "    </tr>\n",
       "  </tbody>\n",
       "</table>\n",
       "<p>5 rows × 27 columns</p>\n",
       "</div>"
      ],
      "text/plain": [
       "  ind_id                                 ind_definition  reportyear  \\\n",
       "0    752  Number of Violent Crimes per 1,000 Population      2000.0   \n",
       "1    752  Number of Violent Crimes per 1,000 Population      2000.0   \n",
       "2    752  Number of Violent Crimes per 1,000 Population      2000.0   \n",
       "3    752  Number of Violent Crimes per 1,000 Population      2000.0   \n",
       "4    752  Number of Violent Crimes per 1,000 Population      2000.0   \n",
       "\n",
       "   race_eth_code race_eth_name geotype  geotypevalue     geoname  county_fips  \\\n",
       "0            9.0         Total      CA           6.0  California          NaN   \n",
       "1            9.0         Total      CA           6.0  California          NaN   \n",
       "2            9.0         Total      CA           6.0  California          NaN   \n",
       "3            9.0         Total      CA           6.0  California          NaN   \n",
       "4            9.0         Total      CA           6.0  California          NaN   \n",
       "\n",
       "  county_name  ...  denominator      rate   ll_95ci   ul_95ci        se  \\\n",
       "0         NaN  ...   33847694.0       NaN       NaN       NaN       NaN   \n",
       "1         NaN  ...   33847694.0       NaN       NaN       NaN       NaN   \n",
       "2         NaN  ...   33847694.0       NaN       NaN       NaN       NaN   \n",
       "3         NaN  ...   33847694.0       NaN       NaN       NaN       NaN   \n",
       "4         NaN  ...   33847694.0  6.217499  6.190935  6.244063  0.013553   \n",
       "\n",
       "        rse  ca_decile  ca_rr  dof_population     version  \n",
       "0       NaN        NaN    NaN      33873086.0  10/21/2015  \n",
       "1       NaN        NaN    NaN      33873086.0  10/21/2015  \n",
       "2       NaN        NaN    NaN      33873086.0  10/21/2015  \n",
       "3       NaN        NaN    NaN      33873086.0  10/21/2015  \n",
       "4  0.217985        NaN    1.0      33873086.0  10/21/2015  \n",
       "\n",
       "[5 rows x 27 columns]"
      ]
     },
     "execution_count": 10,
     "metadata": {},
     "output_type": "execute_result"
    }
   ],
   "source": [
    "df.head()"
   ]
  },
  {
   "cell_type": "code",
   "execution_count": 11,
   "id": "3d07a80c-c80d-419f-98a0-7aaf6406b222",
   "metadata": {},
   "outputs": [
    {
     "name": "stdout",
     "output_type": "stream",
     "text": [
      "<class 'pandas.core.frame.DataFrame'>\n",
      "RangeIndex: 38544 entries, 0 to 38543\n",
      "Data columns (total 27 columns):\n",
      " #   Column                  Non-Null Count  Dtype  \n",
      "---  ------                  --------------  -----  \n",
      " 0   ind_id                  38544 non-null  object \n",
      " 1   ind_definition          38544 non-null  object \n",
      " 2   reportyear              38544 non-null  float64\n",
      " 3   race_eth_code           38544 non-null  float64\n",
      " 4   race_eth_name           38544 non-null  object \n",
      " 5   geotype                 38544 non-null  object \n",
      " 6   geotypevalue            38544 non-null  float64\n",
      " 7   geoname                 38544 non-null  object \n",
      " 8   county_fips             37494 non-null  float64\n",
      " 9   county_name             37494 non-null  object \n",
      " 10  region_code             38474 non-null  float64\n",
      " 11  region_name             38474 non-null  object \n",
      " 12  strata_name_code        38544 non-null  float64\n",
      " 13  strata_name             38544 non-null  object \n",
      " 14  strata_level_name_code  38544 non-null  float64\n",
      " 15  strata_level_name       38544 non-null  object \n",
      " 16  numerator               32159 non-null  float64\n",
      " 17  denominator             36815 non-null  float64\n",
      " 18  rate                    7273 non-null   float64\n",
      " 19  ll_95ci                 7273 non-null   float64\n",
      " 20  ul_95ci                 7273 non-null   float64\n",
      " 21  se                      7273 non-null   float64\n",
      " 22  rse                     7273 non-null   float64\n",
      " 23  ca_decile               6251 non-null   float64\n",
      " 24  ca_rr                   7273 non-null   float64\n",
      " 25  dof_population          38544 non-null  float64\n",
      " 26  version                 38544 non-null  object \n",
      "dtypes: float64(17), object(10)\n",
      "memory usage: 7.9+ MB\n"
     ]
    }
   ],
   "source": [
    "df.info()"
   ]
  },
  {
   "cell_type": "code",
   "execution_count": 12,
   "id": "a5bd9b98-ebfe-42fa-8600-802abd51495f",
   "metadata": {},
   "outputs": [
    {
     "data": {
      "text/plain": [
       "ind_id                        0\n",
       "ind_definition                0\n",
       "reportyear                    0\n",
       "race_eth_code                 0\n",
       "race_eth_name                 0\n",
       "geotype                       0\n",
       "geotypevalue                  0\n",
       "geoname                       0\n",
       "county_fips                1050\n",
       "county_name                1050\n",
       "region_code                  70\n",
       "region_name                  70\n",
       "strata_name_code              0\n",
       "strata_name                   0\n",
       "strata_level_name_code        0\n",
       "strata_level_name             0\n",
       "numerator                  6385\n",
       "denominator                1729\n",
       "rate                      31271\n",
       "ll_95ci                   31271\n",
       "ul_95ci                   31271\n",
       "se                        31271\n",
       "rse                       31271\n",
       "ca_decile                 32293\n",
       "ca_rr                     31271\n",
       "dof_population                0\n",
       "version                       0\n",
       "dtype: int64"
      ]
     },
     "execution_count": 12,
     "metadata": {},
     "output_type": "execute_result"
    }
   ],
   "source": [
    "df.isnull().sum()"
   ]
  },
  {
   "cell_type": "code",
   "execution_count": null,
   "id": "611e3e27-8710-435a-8c44-947c92f7875e",
   "metadata": {},
   "outputs": [],
   "source": [
    "sns.heatmap(df.isnull(), yticklabels=False, annot=True)\n",
    "plt.show()"
   ]
  },
  {
   "cell_type": "code",
   "execution_count": null,
   "id": "ebbac7f9-8846-46fc-9acd-ab7376408c90",
   "metadata": {},
   "outputs": [],
   "source": [
    "df = df.dropna()"
   ]
  },
  {
   "cell_type": "code",
   "execution_count": null,
   "id": "128de2d3-4b2c-43a0-bf60-51fe16c82d88",
   "metadata": {},
   "outputs": [],
   "source": [
    "df.info()"
   ]
  },
  {
   "cell_type": "code",
   "execution_count": null,
   "id": "dff3427b-63aa-44f2-9920-57c54fd30fdc",
   "metadata": {},
   "outputs": [],
   "source": [
    "df.interpolate()"
   ]
  },
  {
   "cell_type": "code",
   "execution_count": null,
   "id": "02aa5a3c-6d1c-40f0-a3d8-38b09e6a01e1",
   "metadata": {},
   "outputs": [],
   "source": [
    "df_dropped = df.dropna()"
   ]
  },
  {
   "cell_type": "code",
   "execution_count": null,
   "id": "fd90b12a-29a7-4c5d-aa0a-3dda473717f1",
   "metadata": {},
   "outputs": [],
   "source": [
    "df_dropped"
   ]
  },
  {
   "cell_type": "code",
   "execution_count": null,
   "id": "5b7f138f-8ae3-4b50-8052-ac6caaa47951",
   "metadata": {},
   "outputs": [],
   "source": [
    "df['reportyear'] = pd.to_numeric(df['reportyear'], errors='coerce')\n",
    "df['numerator'] = pd.to_numeric(df['numerator'], errors='coerce')\n",
    "df['dof_population'] = pd.to_numeric(df['dof_population'], errors='coerce')"
   ]
  },
  {
   "cell_type": "code",
   "execution_count": null,
   "id": "7fb0e0fa-3c9a-4527-a611-925f2d4f8df6",
   "metadata": {},
   "outputs": [],
   "source": [
    "df['crime_rate_per_100k'] = (df['numerator'] / df['dof_population']) * 100000"
   ]
  },
  {
   "cell_type": "code",
   "execution_count": null,
   "id": "6dd2dc2a-6830-4f59-a332-868ce392495c",
   "metadata": {},
   "outputs": [],
   "source": [
    "df = df.dropna(subset=['reportyear', 'numerator', 'dof_population'])"
   ]
  },
  {
   "cell_type": "code",
   "execution_count": null,
   "id": "a3f3fde6-de06-470c-bc81-e259c50661d9",
   "metadata": {},
   "outputs": [],
   "source": [
    "sns.set(style=\"whitegrid\")"
   ]
  },
  {
   "cell_type": "code",
   "execution_count": null,
   "id": "c4abd954-3a45-41c8-996f-7a703fbdcc75",
   "metadata": {},
   "outputs": [],
   "source": [
    "plt.figure(figsize=(10, 5))\n",
    "yearly = df.groupby('reportyear')['numerator'].sum().reset_index()\n",
    "sns.lineplot(data=yearly, x='reportyear', y='numerator', marker='o')\n",
    "plt.title(\"Total Number of Crimes Reported Over the Years\")\n",
    "plt.xlabel(\"Year\")\n",
    "plt.ylabel(\"Number of Crimes\")\n",
    "plt.tight_layout()\n",
    "plt.show()"
   ]
  },
  {
   "cell_type": "code",
   "execution_count": null,
   "id": "8072f017-432f-4b40-bd50-a1940f9fbd64",
   "metadata": {},
   "outputs": [],
   "source": [
    "plt.figure(figsize=(10, 6))\n",
    "crime_type = df.groupby('strata_name_2')['numerator'].sum().sort_values(ascending=False).head(10)\n",
    "plt.figure(figsize=(10, 6))\n",
    "sns.barplot(x=crime_type.values, y=crime_type.index, palette=\"Reds_r\")\n",
    "plt.title(\"Top 10 Crime Types\")\n",
    "plt.xlabel(\"Total Crimes\")\n",
    "plt.ylabel(\"Crime Type\")\n",
    "plt.tight_layout()\n",
    "plt.show()"
   ]
  },
  {
   "cell_type": "code",
   "execution_count": null,
   "id": "94a2b89e-e098-4b38-82bc-680a50dda866",
   "metadata": {},
   "outputs": [],
   "source": [
    "plt.figure(figsize=(10, 6))\n",
    "county_rate = df.groupby('county_name')['crime_rate_per_100k'].mean().sort_values(ascending=False).head(10)\n",
    "sns.barplot(x=county_rate.values, y=county_rate.index, palette=\"Blues_d\")\n",
    "plt.title(\"Top 10 Counties by Average Crime Rate per 100k\")\n",
    "plt.xlabel(\"Average Crime Rate\")\n",
    "plt.ylabel(\"County\")\n",
    "plt.tight_layout()\n",
    "plt.show()"
   ]
  },
  {
   "cell_type": "code",
   "execution_count": null,
   "id": "1dbfb042-716e-4060-951e-b39b88999bfb",
   "metadata": {},
   "outputs": [],
   "source": [
    "plt.figure(figsize=(8, 5))\n",
    "sns.histplot(df['crime_rate_per_100k'], bins=30, kde=True, color='purple')\n",
    "plt.title(\"Distribution of Crime Rates per 100k Population\")\n",
    "plt.xlabel(\"Crime Rate per 100k\")\n",
    "plt.ylabel(\"Frequency\")\n",
    "plt.tight_layout()\n",
    "plt.show()"
   ]
  },
  {
   "cell_type": "code",
   "execution_count": null,
   "id": "6f4a8e36-eeb9-4741-addb-517aa3146a2e",
   "metadata": {},
   "outputs": [],
   "source": [
    "top_crimes = df['strata_name'].value_counts().head(5).index\n",
    "df_top_crimes = df[df['strata_name'].isin(top_crimes)]\n",
    "\n",
    "plt.figure(figsize=(12, 6))\n",
    "sns.lineplot(data=df_top_crimes, x='reportyear', y='numerator', hue='strata_name', marker='o')\n",
    "plt.title(\"Top 5 Crime Types Over Time\")\n",
    "plt.xlabel(\"Year\")\n",
    "plt.ylabel(\"Number of Crimes\")\n",
    "plt.legend(title=\"Crime Type\")\n",
    "plt.tight_layout()\n",
    "plt.show()"
   ]
  },
  {
   "cell_type": "code",
   "execution_count": null,
   "id": "b810c3ba-73ca-40fd-bc63-87a0df488c11",
   "metadata": {},
   "outputs": [],
   "source": [
    "idx = df.groupby('county_name')['crime_rate_per_100k'].idxmax()\n",
    "highest_rate_year = df.loc[idx, ['county_name', 'reportyear', 'crime_rate_per_100k']]\n",
    "print(highest_rate_year.sort_values(by='crime_rate_per_100k', ascending=False).head(10))"
   ]
  },
  {
   "cell_type": "code",
   "execution_count": null,
   "id": "da785898-92a9-4e62-ba11-8e683321019b",
   "metadata": {},
   "outputs": [],
   "source": []
  },
  {
   "cell_type": "code",
   "execution_count": null,
   "id": "0bcc8679-fb10-404e-a235-4a2db1c4345f",
   "metadata": {},
   "outputs": [],
   "source": []
  }
 ],
 "metadata": {
  "kernelspec": {
   "display_name": "Python [conda env:base] *",
   "language": "python",
   "name": "conda-base-py"
  },
  "language_info": {
   "codemirror_mode": {
    "name": "ipython",
    "version": 3
   },
   "file_extension": ".py",
   "mimetype": "text/x-python",
   "name": "python",
   "nbconvert_exporter": "python",
   "pygments_lexer": "ipython3",
   "version": "3.12.7"
  }
 },
 "nbformat": 4,
 "nbformat_minor": 5
}
